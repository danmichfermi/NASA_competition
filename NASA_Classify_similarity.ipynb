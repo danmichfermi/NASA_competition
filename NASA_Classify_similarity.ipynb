{
 "cells": [
  {
   "cell_type": "code",
   "execution_count": null,
   "metadata": {},
   "outputs": [],
   "source": [
    "#Autoregression Clustering- Let's use nearby values to determine where we are going. \n",
    "#Dumb probabilities- this will get us an answer"
   ]
  },
  {
   "cell_type": "code",
   "execution_count": 2,
   "metadata": {},
   "outputs": [],
   "source": [
    "import pandas as pd\n",
    "from sklearn.preprocessing import MinMaxScaler, StandardScaler\n",
    "import numpy as np\n",
    "import matplotlib.pyplot as plt\n",
    "from scipy.spatial.distance import cdist"
   ]
  },
  {
   "cell_type": "code",
   "execution_count": 3,
   "metadata": {},
   "outputs": [
    {
     "name": "stdout",
     "output_type": "stream",
     "text": [
      "Dataframe sizes: (45918, 26),(29820, 26),(55156, 26)\n"
     ]
    }
   ],
   "source": [
    "df=pd.read_csv(r\"C:\\Users\\Daniel\\3D Objects\\Nasa_maitenance\\Challenge_Data\\train.txt\",delim_whitespace=True, header=None)\n",
    "traindf=pd.read_csv(r\"C:\\Users\\Daniel\\3D Objects\\Nasa_maitenance\\Challenge_Data\\train.txt\",delim_whitespace=True, header=None)\n",
    "validdf=pd.read_csv(r\"C:\\Users\\Daniel\\3D Objects\\Nasa_maitenance\\Challenge_Data\\test.txt\",delim_whitespace=True, header=None)\n",
    "finaldf=pd.read_csv(r\"C:\\Users\\Daniel\\3D Objects\\Nasa_maitenance\\Challenge_Data\\final_test.txt\",delim_whitespace=True, header=None)\n",
    "print(\"Dataframe sizes: {},{},{}\".format(traindf.shape,validdf.shape,finaldf.shape))"
   ]
  },
  {
   "cell_type": "code",
   "execution_count": 4,
   "metadata": {},
   "outputs": [
    {
     "name": "stdout",
     "output_type": "stream",
     "text": [
      "   0   1        2       3     4       5       6        7        8     9   ...  \\\n",
      "2   1   3  34.9986  0.8401  60.0  449.44  555.42  1368.17  1122.49  5.48  ...   \n",
      "3   1   4  20.0031  0.7005   0.0  491.19  607.03  1488.44  1249.18  9.35  ...   \n",
      "4   1   5  42.0041  0.8405  40.0  445.00  549.52  1354.48  1124.32  3.91  ...   \n",
      "5   1   6  20.0032  0.7017   0.0  491.19  607.37  1480.46  1258.90  9.35  ...   \n",
      "6   1   7  41.9998  0.8400  40.0  445.00  549.57  1354.43  1131.44  3.91  ...   \n",
      "\n",
      "       16       17       18      19    20   21    22     23     24       25  \n",
      "2  183.26  2387.95  8063.84  9.3557  0.02  334  2223  100.0  14.83   8.8555  \n",
      "3  314.84  2388.07  8052.30  9.2231  0.02  364  2324  100.0  24.42  14.7832  \n",
      "4  130.44  2387.89  8083.67  9.2986  0.02  330  2212  100.0  10.99   6.4025  \n",
      "5  315.36  2388.05  8053.17  9.2276  0.02  364  2324  100.0  24.44  14.7019  \n",
      "6  130.16  2387.88  8082.01  9.3753  0.02  331  2212  100.0  10.53   6.4254  \n",
      "\n",
      "[5 rows x 26 columns]\n"
     ]
    }
   ],
   "source": [
    "#Can scale all data at once. Normally we split the data up going forward, but this was already done. \n",
    "#We could build a function that outputs a matrix\n",
    "scaler = StandardScaler()\n",
    "alldf=pd.concat([traindf,validdf,finaldf])\n",
    "print(alldf[2:].head())\n",
    "alldf[2:]=scaler.fit_transform(alldf[2:])\n"
   ]
  },
  {
   "cell_type": "code",
   "execution_count": 5,
   "metadata": {},
   "outputs": [],
   "source": [
    "#borrow function from before\n",
    "def listvals(value):\n",
    "    value=int(value-1)\n",
    "    return life_list[value]\n",
    "\n",
    "lifedf=alldf.groupby(0).agg({1:['max']})\n",
    "life_list=lifedf[1,\"max\"].tolist()\n",
    "\n",
    "\n",
    "alldf[\"Degrade\"]=(alldf[0].apply(listvals)-alldf[1])/alldf[0].apply(listvals)\n",
    "alldf[\"TotalLife\"]=alldf[0].apply(listvals)\n"
   ]
  },
  {
   "cell_type": "code",
   "execution_count": 7,
   "metadata": {},
   "outputs": [],
   "source": [
    "#Split back up\n",
    "place1=45918+29820\n",
    "place2=place1+55156\n",
    "traindf_sc=alldf.iloc[0:45918,:]\n",
    "validdf_sc=alldf.iloc[place1:place2,:]\n",
    "finaldf_sc=alldf.iloc[place2:,:]"
   ]
  },
  {
   "cell_type": "code",
   "execution_count": 20,
   "metadata": {},
   "outputs": [],
   "source": [
    "#Dumb distance definition\n",
    "class recursive_distance():\n",
    "\n",
    "    def __init__(self, totalvec,decay):\n",
    "        self.lifetotals=totalvec\n",
    "        self.iterations=0.0\n",
    "        self.compare=len(totalvec)\n",
    "        self.decay=decay\n",
    "        \n",
    "    def distance(self,df,vec):\n",
    "        self.total=0\n",
    "        current_rows=self.compare*self.iterations\n",
    "        current_compare=df.iloc[z+current_rows]\n",
    "        for z in range(0,self.compare):\n",
    "            update=cdist(df.iloc[z+current_rows].to_numpy(), vec, metric='euclidean')\n",
    "            self.distancevec[z]=self.decay*self.distancevec[z]+update\n",
    "            self.total+=self.distancevec[z]\n",
    "            \n",
    "    #select return function to determine estimate of remaining life\n",
    "    def max_based(self):\n",
    "        return self.lifetotals[self.distancevec[z].index(max(self.distancevec))]\n",
    "    def total_based(self):\n",
    "        final_value=0.0\n",
    "        count=0\n",
    "        for x in self.distancevec:\n",
    "            weight=x/self.total\n",
    "            final_value+=weight*self.lifetotals[count]\n",
    "            count+=1"
   ]
  },
  {
   "cell_type": "code",
   "execution_count": 18,
   "metadata": {},
   "outputs": [
    {
     "data": {
      "text/html": [
       "<div>\n",
       "<style scoped>\n",
       "    .dataframe tbody tr th:only-of-type {\n",
       "        vertical-align: middle;\n",
       "    }\n",
       "\n",
       "    .dataframe tbody tr th {\n",
       "        vertical-align: top;\n",
       "    }\n",
       "\n",
       "    .dataframe thead th {\n",
       "        text-align: right;\n",
       "    }\n",
       "</style>\n",
       "<table border=\"1\" class=\"dataframe\">\n",
       "  <thead>\n",
       "    <tr style=\"text-align: right;\">\n",
       "      <th></th>\n",
       "      <th>0</th>\n",
       "      <th>1</th>\n",
       "      <th>2</th>\n",
       "      <th>3</th>\n",
       "      <th>4</th>\n",
       "      <th>5</th>\n",
       "      <th>6</th>\n",
       "      <th>7</th>\n",
       "      <th>8</th>\n",
       "      <th>9</th>\n",
       "      <th>...</th>\n",
       "      <th>18</th>\n",
       "      <th>19</th>\n",
       "      <th>20</th>\n",
       "      <th>21</th>\n",
       "      <th>22</th>\n",
       "      <th>23</th>\n",
       "      <th>24</th>\n",
       "      <th>25</th>\n",
       "      <th>Degrade</th>\n",
       "      <th>TotalLife</th>\n",
       "    </tr>\n",
       "  </thead>\n",
       "  <tbody>\n",
       "    <tr>\n",
       "      <th>0</th>\n",
       "      <td>-1.429151</td>\n",
       "      <td>-1.424903</td>\n",
       "      <td>-0.948590</td>\n",
       "      <td>-1.035900</td>\n",
       "      <td>-0.894683</td>\n",
       "      <td>0.613253</td>\n",
       "      <td>0.684198</td>\n",
       "      <td>0.755057</td>\n",
       "      <td>0.850539</td>\n",
       "      <td>0.688592</td>\n",
       "      <td>...</td>\n",
       "      <td>0.765480</td>\n",
       "      <td>-0.910094</td>\n",
       "      <td>1.456036</td>\n",
       "      <td>0.829652</td>\n",
       "      <td>0.622739</td>\n",
       "      <td>0.419797</td>\n",
       "      <td>0.780913</td>\n",
       "      <td>0.773012</td>\n",
       "      <td>3.563170</td>\n",
       "      <td>0.555914</td>\n",
       "    </tr>\n",
       "    <tr>\n",
       "      <th>1</th>\n",
       "      <td>-1.429151</td>\n",
       "      <td>-1.408929</td>\n",
       "      <td>-1.625479</td>\n",
       "      <td>-1.840378</td>\n",
       "      <td>1.566864</td>\n",
       "      <td>1.733955</td>\n",
       "      <td>1.693069</td>\n",
       "      <td>1.642907</td>\n",
       "      <td>1.693313</td>\n",
       "      <td>1.820517</td>\n",
       "      <td>...</td>\n",
       "      <td>0.759437</td>\n",
       "      <td>-1.192080</td>\n",
       "      <td>1.456036</td>\n",
       "      <td>1.585537</td>\n",
       "      <td>1.096522</td>\n",
       "      <td>0.419797</td>\n",
       "      <td>1.834363</td>\n",
       "      <td>1.832782</td>\n",
       "      <td>3.534435</td>\n",
       "      <td>0.555914</td>\n",
       "    </tr>\n",
       "    <tr>\n",
       "      <th>2</th>\n",
       "      <td>-1.429151</td>\n",
       "      <td>-1.392955</td>\n",
       "      <td>0.742679</td>\n",
       "      <td>0.864190</td>\n",
       "      <td>0.336090</td>\n",
       "      <td>-0.885431</td>\n",
       "      <td>-0.642306</td>\n",
       "      <td>-0.574268</td>\n",
       "      <td>-0.637678</td>\n",
       "      <td>-0.702847</td>\n",
       "      <td>...</td>\n",
       "      <td>-0.046236</td>\n",
       "      <td>-0.022157</td>\n",
       "      <td>-0.686796</td>\n",
       "      <td>-0.538140</td>\n",
       "      <td>-0.036436</td>\n",
       "      <td>0.419797</td>\n",
       "      <td>-0.593723</td>\n",
       "      <td>-0.615212</td>\n",
       "      <td>3.505700</td>\n",
       "      <td>0.555914</td>\n",
       "    </tr>\n",
       "    <tr>\n",
       "      <th>3</th>\n",
       "      <td>-1.429151</td>\n",
       "      <td>-1.376980</td>\n",
       "      <td>-0.272025</td>\n",
       "      <td>0.414609</td>\n",
       "      <td>-1.510070</td>\n",
       "      <td>0.694222</td>\n",
       "      <td>0.753830</td>\n",
       "      <td>0.577260</td>\n",
       "      <td>0.450756</td>\n",
       "      <td>0.365579</td>\n",
       "      <td>...</td>\n",
       "      <td>-0.047065</td>\n",
       "      <td>-0.113309</td>\n",
       "      <td>-0.686796</td>\n",
       "      <td>0.613685</td>\n",
       "      <td>0.657071</td>\n",
       "      <td>0.419797</td>\n",
       "      <td>0.359735</td>\n",
       "      <td>0.376112</td>\n",
       "      <td>3.476965</td>\n",
       "      <td>0.555914</td>\n",
       "    </tr>\n",
       "    <tr>\n",
       "      <th>4</th>\n",
       "      <td>-1.429151</td>\n",
       "      <td>-1.361006</td>\n",
       "      <td>1.216722</td>\n",
       "      <td>0.865478</td>\n",
       "      <td>-0.279296</td>\n",
       "      <td>-1.053423</td>\n",
       "      <td>-0.797641</td>\n",
       "      <td>-0.607640</td>\n",
       "      <td>-0.665785</td>\n",
       "      <td>-1.136292</td>\n",
       "      <td>...</td>\n",
       "      <td>0.197717</td>\n",
       "      <td>0.095782</td>\n",
       "      <td>-0.686796</td>\n",
       "      <td>-0.610129</td>\n",
       "      <td>-0.111967</td>\n",
       "      <td>0.419797</td>\n",
       "      <td>-1.021971</td>\n",
       "      <td>-1.008241</td>\n",
       "      <td>3.448229</td>\n",
       "      <td>0.555914</td>\n",
       "    </tr>\n",
       "  </tbody>\n",
       "</table>\n",
       "<p>5 rows × 28 columns</p>\n",
       "</div>"
      ],
      "text/plain": [
       "          0         1         2         3         4         5         6  \\\n",
       "0 -1.429151 -1.424903 -0.948590 -1.035900 -0.894683  0.613253  0.684198   \n",
       "1 -1.429151 -1.408929 -1.625479 -1.840378  1.566864  1.733955  1.693069   \n",
       "2 -1.429151 -1.392955  0.742679  0.864190  0.336090 -0.885431 -0.642306   \n",
       "3 -1.429151 -1.376980 -0.272025  0.414609 -1.510070  0.694222  0.753830   \n",
       "4 -1.429151 -1.361006  1.216722  0.865478 -0.279296 -1.053423 -0.797641   \n",
       "\n",
       "          7         8         9  ...        18        19        20        21  \\\n",
       "0  0.755057  0.850539  0.688592  ...  0.765480 -0.910094  1.456036  0.829652   \n",
       "1  1.642907  1.693313  1.820517  ...  0.759437 -1.192080  1.456036  1.585537   \n",
       "2 -0.574268 -0.637678 -0.702847  ... -0.046236 -0.022157 -0.686796 -0.538140   \n",
       "3  0.577260  0.450756  0.365579  ... -0.047065 -0.113309 -0.686796  0.613685   \n",
       "4 -0.607640 -0.665785 -1.136292  ...  0.197717  0.095782 -0.686796 -0.610129   \n",
       "\n",
       "         22        23        24        25   Degrade  TotalLife  \n",
       "0  0.622739  0.419797  0.780913  0.773012  3.563170   0.555914  \n",
       "1  1.096522  0.419797  1.834363  1.832782  3.534435   0.555914  \n",
       "2 -0.036436  0.419797 -0.593723 -0.615212  3.505700   0.555914  \n",
       "3  0.657071  0.419797  0.359735  0.376112  3.476965   0.555914  \n",
       "4 -0.111967  0.419797 -1.021971 -1.008241  3.448229   0.555914  \n",
       "\n",
       "[5 rows x 28 columns]"
      ]
     },
     "execution_count": 18,
     "metadata": {},
     "output_type": "execute_result"
    }
   ],
   "source": [
    "grouped_df = validdf_sc.groupby(0)    \n",
    "validationset=[grouped_df.get_group(x) for x in grouped_df.groups]\n",
    "validationset[0].head()"
   ]
  },
  {
   "cell_type": "code",
   "execution_count": null,
   "metadata": {},
   "outputs": [],
   "source": []
  },
  {
   "cell_type": "code",
   "execution_count": 11,
   "metadata": {},
   "outputs": [
    {
     "data": {
      "text/plain": [
       "array([1.00000000e+00, 2.00000000e+00, 1.50000000e-03, 3.00000000e-04,\n",
       "       1.00000000e+02, 5.18670000e+02, 6.42130000e+02, 1.58455000e+03,\n",
       "       1.40396000e+03, 1.46200000e+01, 2.16100000e+01, 5.53670000e+02,\n",
       "       2.38801000e+03, 9.04576000e+03, 1.30000000e+00, 4.72900000e+01,\n",
       "       5.21810000e+02, 2.38815000e+03, 8.13287000e+03, 8.39070000e+00,\n",
       "       3.00000000e-02, 3.91000000e+02, 2.38800000e+03, 1.00000000e+02,\n",
       "       3.89900000e+01, 2.33619000e+01, 5.72260758e-02, 2.12139936e+00])"
      ]
     },
     "execution_count": 11,
     "metadata": {},
     "output_type": "execute_result"
    }
   ],
   "source": [
    "traindf_sc.iloc[1].to_numpy()"
   ]
  },
  {
   "cell_type": "code",
   "execution_count": 23,
   "metadata": {},
   "outputs": [
    {
     "ename": "AttributeError",
     "evalue": "'DataFrameGroupBy' object has no attribute 'iloc'",
     "output_type": "error",
     "traceback": [
      "\u001b[1;31m---------------------------------------------------------------------------\u001b[0m",
      "\u001b[1;31mAttributeError\u001b[0m                            Traceback (most recent call last)",
      "\u001b[1;32m<ipython-input-23-c39ffa801513>\u001b[0m in \u001b[0;36m<module>\u001b[1;34m\u001b[0m\n\u001b[0;32m      3\u001b[0m \u001b[0msorted_train\u001b[0m\u001b[1;33m=\u001b[0m\u001b[0mtraindf_sc\u001b[0m\u001b[1;33m.\u001b[0m\u001b[0mgroupby\u001b[0m\u001b[1;33m(\u001b[0m\u001b[1;36m1\u001b[0m\u001b[1;33m)\u001b[0m\u001b[1;33m\u001b[0m\u001b[1;33m\u001b[0m\u001b[0m\n\u001b[0;32m      4\u001b[0m \u001b[1;32mfor\u001b[0m \u001b[0my\u001b[0m \u001b[1;32min\u001b[0m \u001b[0mrange\u001b[0m\u001b[1;33m(\u001b[0m\u001b[1;36m0\u001b[0m\u001b[1;33m,\u001b[0m\u001b[1;36m50\u001b[0m\u001b[1;33m)\u001b[0m\u001b[1;33m:\u001b[0m\u001b[1;33m\u001b[0m\u001b[1;33m\u001b[0m\u001b[0m\n\u001b[1;32m----> 5\u001b[1;33m     \u001b[0mdistance_system\u001b[0m\u001b[1;33m.\u001b[0m\u001b[0mdistance\u001b[0m\u001b[1;33m(\u001b[0m\u001b[0msorted_train\u001b[0m\u001b[1;33m.\u001b[0m\u001b[0miloc\u001b[0m\u001b[1;33m[\u001b[0m\u001b[1;33m:\u001b[0m\u001b[1;33m,\u001b[0m\u001b[1;36m2\u001b[0m\u001b[1;33m:\u001b[0m\u001b[1;36m26\u001b[0m\u001b[1;33m]\u001b[0m\u001b[1;33m,\u001b[0m\u001b[0mz\u001b[0m\u001b[1;33m.\u001b[0m\u001b[0miloc\u001b[0m\u001b[1;33m[\u001b[0m\u001b[0my\u001b[0m\u001b[1;33m,\u001b[0m\u001b[1;36m2\u001b[0m\u001b[1;33m:\u001b[0m\u001b[1;36m26\u001b[0m\u001b[1;33m]\u001b[0m\u001b[1;33m)\u001b[0m\u001b[1;33m\u001b[0m\u001b[1;33m\u001b[0m\u001b[0m\n\u001b[0m\u001b[0;32m      6\u001b[0m     \u001b[0mdistance_system\u001b[0m\u001b[1;33m.\u001b[0m\u001b[0mmax_based\u001b[0m\u001b[1;33m(\u001b[0m\u001b[1;33m)\u001b[0m\u001b[1;33m\u001b[0m\u001b[1;33m\u001b[0m\u001b[0m\n",
      "\u001b[1;32m~\\Anaconda3\\envs\\DataScience\\lib\\site-packages\\pandas\\core\\groupby\\groupby.py\u001b[0m in \u001b[0;36m__getattr__\u001b[1;34m(self, attr)\u001b[0m\n\u001b[0;32m    702\u001b[0m \u001b[1;33m\u001b[0m\u001b[0m\n\u001b[0;32m    703\u001b[0m         raise AttributeError(\n\u001b[1;32m--> 704\u001b[1;33m             \u001b[1;34mf\"'{type(self).__name__}' object has no attribute '{attr}'\"\u001b[0m\u001b[1;33m\u001b[0m\u001b[1;33m\u001b[0m\u001b[0m\n\u001b[0m\u001b[0;32m    705\u001b[0m         )\n\u001b[0;32m    706\u001b[0m \u001b[1;33m\u001b[0m\u001b[0m\n",
      "\u001b[1;31mAttributeError\u001b[0m: 'DataFrameGroupBy' object has no attribute 'iloc'"
     ]
    }
   ],
   "source": [
    "#feed grouped by second column\n",
    "distance_system=recursive_distance(life_list,0.95)\n",
    "sorted_train=traindf_sc.groupby(1)\n",
    "for y in range(0,50):\n",
    "    distance_system.distance(sorted_train[:,2:26],z.iloc[y,2:26])\n",
    "    distance_system.max_based()\n"
   ]
  },
  {
   "cell_type": "code",
   "execution_count": null,
   "metadata": {},
   "outputs": [],
   "source": []
  }
 ],
 "metadata": {
  "kernelspec": {
   "display_name": "Python 3",
   "language": "python",
   "name": "python3"
  },
  "language_info": {
   "codemirror_mode": {
    "name": "ipython",
    "version": 3
   },
   "file_extension": ".py",
   "mimetype": "text/x-python",
   "name": "python",
   "nbconvert_exporter": "python",
   "pygments_lexer": "ipython3",
   "version": "3.7.9"
  }
 },
 "nbformat": 4,
 "nbformat_minor": 2
}
